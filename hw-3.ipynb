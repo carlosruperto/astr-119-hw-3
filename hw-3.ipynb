{
 "cells": [
  {
   "cell_type": "code",
   "execution_count": null,
   "metadata": {},
   "outputs": [],
   "source": [
    "%matplotlib inline\n",
    "import numpy as np\n",
    "import matplotlib.pyplot as plt"
   ]
  },
  {
   "cell_type": "code",
   "execution_count": null,
   "metadata": {},
   "outputs": [],
   "source": [
    "x = np.linspace(0,2*np.pi,1000)       #establishing the range for chart\n",
    "print(x[-1],2*np.pi)\n",
    "y = np.cos(2*x)*5.5+5.5               # y(x)=5.5cos(2*x)+5.5\n",
    "z = np.exp(x)*0.02                    # y(x)=0.02*exp(x)\n",
    "w = np.sin(10*x)*0.1+x**2*0.25        # y(x)=0.25*x^2+0.1*sin(10*x)\n",
    "\n",
    "plt.plot(x, z, 'r')        # plotting x, a separately\n",
    "plt.plot(x, w, 'b')        # plotting x, w separately\n",
    "plt.plot(x, y, 'g')        # plotting x, y separately\n",
    "\n",
    "\n",
    "plt.plot(x,y)\n",
    "plt.xlabel('Time in ASTR / EART 119') # label x axis\n",
    "plt.ylabel('Measures of Awesomeness') # label y axis\n",
    "plt.show()"
   ]
  },
  {
   "cell_type": "code",
   "execution_count": null,
   "metadata": {},
   "outputs": [],
   "source": [
    "\n"
   ]
  },
  {
   "cell_type": "code",
   "execution_count": null,
   "metadata": {},
   "outputs": [],
   "source": []
  }
 ],
 "metadata": {
  "kernelspec": {
   "display_name": "Python 3",
   "language": "python",
   "name": "python3"
  },
  "language_info": {
   "codemirror_mode": {
    "name": "ipython",
    "version": 3
   },
   "file_extension": ".py",
   "mimetype": "text/x-python",
   "name": "python",
   "nbconvert_exporter": "python",
   "pygments_lexer": "ipython3",
   "version": "3.8.6"
  }
 },
 "nbformat": 4,
 "nbformat_minor": 4
}
